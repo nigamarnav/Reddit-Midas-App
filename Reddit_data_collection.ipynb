{
  "nbformat": 4,
  "nbformat_minor": 0,
  "metadata": {
    "kernelspec": {
      "name": "python3",
      "display_name": "Python 3"
    },
    "colab": {
      "name": "Reddit data collection.ipynb",
      "provenance": []
    }
  },
  "cells": [
    {
      "cell_type": "markdown",
      "metadata": {
        "id": "2oeKLEaTaZex",
        "colab_type": "text"
      },
      "source": [
        "**Library Declaration**\n"
      ]
    },
    {
      "cell_type": "code",
      "metadata": {
        "id": "ScSUloOw7kJb",
        "colab_type": "code",
        "outputId": "366df2b8-dadb-46a0-d0f1-d1aa2f8fd94f",
        "colab": {
          "base_uri": "https://localhost:8080/",
          "height": 187
        }
      },
      "source": [
        "pip install praw"
      ],
      "execution_count": 0,
      "outputs": [
        {
          "output_type": "stream",
          "text": [
            "Requirement already satisfied: praw in /usr/local/lib/python3.6/dist-packages (6.5.1)\n",
            "Requirement already satisfied: prawcore<2.0,>=1.0.1 in /usr/local/lib/python3.6/dist-packages (from praw) (1.3.0)\n",
            "Requirement already satisfied: update-checker>=0.16 in /usr/local/lib/python3.6/dist-packages (from praw) (0.16)\n",
            "Requirement already satisfied: websocket-client>=0.54.0 in /usr/local/lib/python3.6/dist-packages (from praw) (0.57.0)\n",
            "Requirement already satisfied: requests<3.0,>=2.6.0 in /usr/local/lib/python3.6/dist-packages (from prawcore<2.0,>=1.0.1->praw) (2.21.0)\n",
            "Requirement already satisfied: six in /usr/local/lib/python3.6/dist-packages (from websocket-client>=0.54.0->praw) (1.12.0)\n",
            "Requirement already satisfied: chardet<3.1.0,>=3.0.2 in /usr/local/lib/python3.6/dist-packages (from requests<3.0,>=2.6.0->prawcore<2.0,>=1.0.1->praw) (3.0.4)\n",
            "Requirement already satisfied: certifi>=2017.4.17 in /usr/local/lib/python3.6/dist-packages (from requests<3.0,>=2.6.0->prawcore<2.0,>=1.0.1->praw) (2020.4.5.1)\n",
            "Requirement already satisfied: urllib3<1.25,>=1.21.1 in /usr/local/lib/python3.6/dist-packages (from requests<3.0,>=2.6.0->prawcore<2.0,>=1.0.1->praw) (1.24.3)\n",
            "Requirement already satisfied: idna<2.9,>=2.5 in /usr/local/lib/python3.6/dist-packages (from requests<3.0,>=2.6.0->prawcore<2.0,>=1.0.1->praw) (2.8)\n"
          ],
          "name": "stdout"
        }
      ]
    },
    {
      "cell_type": "markdown",
      "metadata": {
        "id": "RmfcKoiYcuS1",
        "colab_type": "text"
      },
      "source": [
        "**Create a reddit app by navigating to [this page](https://www.reddit.com/prefs/apps) and clicking create app or create another app. Put personal use script in Client-Id, secret in Client-Secret and name in User-Agent.**"
      ]
    },
    {
      "cell_type": "code",
      "metadata": {
        "scrolled": true,
        "id": "DhzU1zC7sHIa",
        "colab_type": "code",
        "colab": {}
      },
      "source": [
        "import praw\n",
        "import pandas as pd\n",
        "from bs4 import BeautifulSoup as bs\n",
        "pd.set_option('display.max_rows', 500)\n",
        "pd.set_option('display.max_columns', 500)\n",
        "pd.set_option('display.width', 1000)\n",
        "\n",
        "import matplotlib.pyplot as plt\n",
        "import seaborn as sns\n",
        "reddit = praw.Reddit(client_id='*******', client_secret='*******', user_agent='******')"
      ],
      "execution_count": 0,
      "outputs": []
    },
    {
      "cell_type": "markdown",
      "metadata": {
        "id": "e5uWfyKkfZmA",
        "colab_type": "text"
      },
      "source": [
        "**Reddit provide data in various category. After EDA we have choosen these four category and data-limit for extracting data. Other category were highly inbalanced.** "
      ]
    },
    {
      "cell_type": "code",
      "metadata": {
        "id": "fN_jxw9kvFT-",
        "colab_type": "code",
        "colab": {}
      },
      "source": [
        "hot_posts = []\n",
        "rising_posts = []\n",
        "new_posts = []\n",
        "top_posts = []"
      ],
      "execution_count": 0,
      "outputs": []
    },
    {
      "cell_type": "code",
      "metadata": {
        "id": "dqvO6cuqEOpj",
        "colab_type": "code",
        "colab": {}
      },
      "source": [
        "Hot_posts = reddit.subreddit('india').hot(limit=100000)\n",
        "Rising_posts = reddit.subreddit('india').random_rising(limit=10000)\n",
        "New_posts = reddit.subreddit('india').new(limit=100000)\n",
        "Top_posts = reddit.subreddit('india').top(limit=100000)"
      ],
      "execution_count": 0,
      "outputs": []
    },
    {
      "cell_type": "markdown",
      "metadata": {
        "id": "hCtcKSbmim2-",
        "colab_type": "text"
      },
      "source": [
        "**We are taking only Title, Post-data and Flair linked to that post in each row.**"
      ]
    },
    {
      "cell_type": "code",
      "metadata": {
        "id": "_VgUIc5QvY-l",
        "colab_type": "code",
        "colab": {}
      },
      "source": [
        "for post in Hot_posts:\n",
        "  hot_posts.append([post.title, post.selftext, post.link_flair_text])\n",
        "hot_posts = pd.DataFrame(hot_posts,columns=['title', 'body', 'flair'])\n",
        "\n",
        "for post in Rising_posts:\n",
        "  rising_posts.append([post.title, post.selftext, post.link_flair_text])\n",
        "rising_posts = pd.DataFrame(rising_posts,columns=['title', 'body', 'flair'])\n",
        "\n",
        "for post in New_posts:\n",
        "  new_posts.append([post.title, post.selftext, post.link_flair_text])\n",
        "new_posts = pd.DataFrame(new_posts,columns=['title', 'body', 'flair'])\n",
        "\n",
        "for post in Top_posts:\n",
        "  top_posts.append([post.title, post.selftext, post.link_flair_text])\n",
        "top_posts = pd.DataFrame(top_posts,columns=['title', 'body', 'flair'])"
      ],
      "execution_count": 0,
      "outputs": []
    },
    {
      "cell_type": "markdown",
      "metadata": {
        "id": "IZLG4RuljBgG",
        "colab_type": "text"
      },
      "source": [
        "**All dataframe have been exported as csv files.**"
      ]
    },
    {
      "cell_type": "code",
      "metadata": {
        "id": "B8K8Pc4Zh0Rn",
        "colab_type": "code",
        "colab": {}
      },
      "source": [
        "hot_posts.to_csv('hotPosts.csv', index=False) \n",
        "rising_posts.to_csv('risingPosts.csv', index=False)\n",
        "new_posts.to_csv('newPosts.csv', index=False)\n",
        "top_posts.to_csv('topPosts.csv', index=False)"
      ],
      "execution_count": 0,
      "outputs": []
    }
  ]
}